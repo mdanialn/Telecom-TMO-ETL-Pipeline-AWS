{
 "cells": [
  {
   "cell_type": "code",
   "execution_count": null,
   "id": "93f1daad-1610-4cd9-b4f8-0ed8ac0313f0",
   "metadata": {},
   "outputs": [],
   "source": [
    "from pathlib import Path\n",
    "\n",
    "import matplotlib.pyplot as plt\n",
    "import numpy as np\n",
    "import pandas as pd\n",
    "import geodatasets\n",
    "import geopandas as gpd\n",
    "import seaborn as sns\n",
    "import shapely\n",
    "from shapely.geometry import MultiPoint, Point, box\n",
    "from sklearn.cluster import KMeans"
   ]
  },
  {
   "cell_type": "code",
   "execution_count": null,
   "id": "ed6f82c1-520c-4964-93e3-4ca2e7e65275",
   "metadata": {},
   "outputs": [],
   "source": [
    "data_path = Path(\"../data/update version with CI.csv\")"
   ]
  },
  {
   "cell_type": "code",
   "execution_count": null,
   "id": "e931f278-6354-4069-b9df-d5d7ca98ec7d",
   "metadata": {},
   "outputs": [],
   "source": [
    "raw = pd.read_csv(data_path)\n",
    "raw.sample(5)"
   ]
  },
  {
   "cell_type": "code",
   "execution_count": null,
   "id": "a7bb297c-4df2-41a8-9844-1b4ad378cdcf",
   "metadata": {},
   "outputs": [],
   "source": [
    "geodatasets.data.geoda.seattle1"
   ]
  },
  {
   "cell_type": "code",
   "execution_count": null,
   "id": "a99d9411-6880-4587-9634-73d356b5aa58",
   "metadata": {},
   "outputs": [],
   "source": [
    "import requests\n",
    "print(requests.certs.where())"
   ]
  },
  {
   "cell_type": "markdown",
   "id": "0b1f1608-2f9f-41ad-b621-85ef3e6e311c",
   "metadata": {},
   "source": [
    "had to manually copy the TMO cert into that cacert.pem file."
   ]
  },
  {
   "cell_type": "code",
   "execution_count": null,
   "id": "a66764b0-c135-448f-beb4-d2a1288f00e8",
   "metadata": {},
   "outputs": [],
   "source": [
    "seattle = gpd.read_file(geodatasets.get_path(\"geoda.seattle1\"))"
   ]
  },
  {
   "cell_type": "code",
   "execution_count": null,
   "id": "df2bec7c-8dbb-4910-9c13-353fe32129b1",
   "metadata": {},
   "outputs": [],
   "source": [
    "seattle.crs"
   ]
  },
  {
   "cell_type": "code",
   "execution_count": null,
   "id": "35ae6fee-f907-4861-9e4a-ac77152f0b8e",
   "metadata": {},
   "outputs": [],
   "source": [
    "seattle.plot()"
   ]
  },
  {
   "cell_type": "code",
   "execution_count": null,
   "id": "feb6144d-80a7-4172-bf1b-16ec629cdaab",
   "metadata": {},
   "outputs": [],
   "source": [
    "raw.head().transpose()"
   ]
  },
  {
   "cell_type": "code",
   "execution_count": null,
   "id": "bc5dd4a2-186b-4dcf-8533-eb192a1c3b34",
   "metadata": {},
   "outputs": [],
   "source": [
    "raw.info()"
   ]
  },
  {
   "cell_type": "code",
   "execution_count": null,
   "id": "e5722069-fbe2-405b-9046-81d9fb1f2942",
   "metadata": {},
   "outputs": [],
   "source": [
    "raw[raw['ED_ENVIRONMENT_LOCATION_TIMESTAMP'].isna()].transpose()"
   ]
  },
  {
   "cell_type": "code",
   "execution_count": null,
   "id": "3982916c-2f87-4b73-bca0-5b1bdfba9d1a",
   "metadata": {},
   "outputs": [],
   "source": [
    "def hour_to_period(hr: int) -> str:\n",
    "    \"\"\"convert a 24-hour number to one of a set of periods using a piecewise fn\"\"\"\n",
    "    if hr <= 5 or hr >= 22:\n",
    "        return \"night\"\n",
    "    elif 18 > hr > 5:\n",
    "        return \"day\"\n",
    "    else:\n",
    "        return \"evening\""
   ]
  },
  {
   "cell_type": "code",
   "execution_count": null,
   "id": "dfb2b1da-929a-49c1-a8c2-822f18140de9",
   "metadata": {},
   "outputs": [],
   "source": [
    "geo = raw.dropna(subset=[\"ED_ENVIRONMENT_LOCATION_TIMESTAMP\", \"SITE_LONGITUDE\", \"SITE_LATITUDE\"]).assign(\n",
    "    device=raw['EVENT_DEVICE_DATA_DEVICEIMEI'].str[:5],\n",
    "    time = (pd.to_datetime(raw.ED_ENVIRONMENT_LOCATION_TIMESTAMP.dropna()).dt.hour+1).apply(hour_to_period)\n",
    ")"
   ]
  },
  {
   "cell_type": "code",
   "execution_count": null,
   "id": "65cab4e8-a328-45f4-b1a4-54805ca78f28",
   "metadata": {},
   "outputs": [],
   "source": [
    "gdf = gpd.GeoDataFrame(geo, geometry=geo[['SITE_LONGITUDE','SITE_LATITUDE']].apply(Point, axis=1)).set_crs(epsg=4326)"
   ]
  },
  {
   "cell_type": "code",
   "execution_count": null,
   "id": "633c0182-c91d-4352-93b7-e907e8668f70",
   "metadata": {},
   "outputs": [],
   "source": [
    "ax = seattle.plot()\n",
    "gdf.plot(ax=ax, color='red', marker='.', alpha=0.1)"
   ]
  },
  {
   "cell_type": "markdown",
   "id": "5360f65a-a261-4f35-9f83-822f45532920",
   "metadata": {},
   "source": [
    "Did one of these guys go in the Sound? Something's off here"
   ]
  },
  {
   "cell_type": "code",
   "execution_count": null,
   "id": "9067504f-a7ad-4906-a4f7-9ee1c470954a",
   "metadata": {},
   "outputs": [],
   "source": [
    "g = sns.FacetGrid(gdf,col=\"device\", hue='time', col_wrap=3)\n",
    "g.map(sns.scatterplot,\"SITE_LONGITUDE\", \"SITE_LATITUDE\", alpha=0.05) \n",
    "g.set_titles(\"{col_name}\")\n",
    "g.add_legend()"
   ]
  },
  {
   "cell_type": "code",
   "execution_count": null,
   "id": "bd6e0278-9e33-4b9c-92e1-155e254aa7c8",
   "metadata": {},
   "outputs": [],
   "source": [
    "g = sns.FacetGrid(gdf[gdf.ED_ENVIRONMENT_LOCATION_SPEED < 1],col=\"device\", hue='time', col_wrap=3)\n",
    "g.map(sns.scatterplot,\"SITE_LONGITUDE\", \"SITE_LATITUDE\", alpha=0.05) \n",
    "g.set_titles(\"{col_name}\")\n",
    "g.add_legend()\n",
    "g.figure.suptitle(\"Stationary only\")\n",
    "g.figure.subplots_adjust(top=0.9)"
   ]
  },
  {
   "cell_type": "markdown",
   "id": "0700c732-c2ad-4dd1-a8c0-4bc510627687",
   "metadata": {},
   "source": [
    "# Clustering\n",
    "\n",
    "We need to figure out a heuristic for n_neighbors. Since we have lat-lons this needn't be arbitrary, but we could just gridsearch."
   ]
  },
  {
   "cell_type": "code",
   "execution_count": null,
   "id": "ce4c0d66-e274-47ad-b869-5ba5a7f7d417",
   "metadata": {},
   "outputs": [],
   "source": []
  },
  {
   "cell_type": "code",
   "execution_count": null,
   "id": "4723cda5-81b9-4b9e-9112-ea9cfbfa1183",
   "metadata": {},
   "outputs": [],
   "source": [
    "imei = gdf.EVENT_DEVICE_DATA_DEVICEIMEI.sample(1).iloc[0]\n",
    "imei"
   ]
  },
  {
   "cell_type": "code",
   "execution_count": null,
   "id": "309c732f-8ec0-41d8-92ec-10d0193cd81e",
   "metadata": {},
   "outputs": [],
   "source": [
    "plt.plot(range(200), np.emath.logn(10, np.array(range(200))))"
   ]
  },
  {
   "cell_type": "code",
   "execution_count": null,
   "id": "4b43002b-5d17-480a-82e2-60ba5dae9b01",
   "metadata": {},
   "outputs": [],
   "source": [
    "box(*gdf[gdf.EVENT_DEVICE_DATA_DEVICEIMEI == imei].total_bounds).area"
   ]
  },
  {
   "cell_type": "code",
   "execution_count": null,
   "id": "dae3158d-2ebb-4870-a63a-215752f2162b",
   "metadata": {},
   "outputs": [],
   "source": [
    "def n_cluster_heuristic(grp) -> int:\n",
    "    \"\"\"determine how many clusters we should use on a given group:\n",
    "\n",
    "    log base 10 of total KM**2 area of person's bounding box\n",
    "    \"\"\"\n",
    "    return max(1,round(np.emath.logn(10, box(*grp.total_bounds).area * 111**2)))\n",
    "    \n",
    "    \n",
    "def make_clusters(group: gpd.GeoDataFrame, n_clusters: int = None):\n",
    "    if n_clusters is None:\n",
    "        n_clusters = n_cluster_heuristic(group)\n",
    "    lon_lat = group[[\"SITE_LONGITUDE\",\"SITE_LATITUDE\"]]\n",
    "    kms = KMeans(n_clusters=n_clusters)\n",
    "    kms.fit(lon_lat)\n",
    "    group['cluster'] = kms.labels_\n",
    "    return group"
   ]
  },
  {
   "cell_type": "code",
   "execution_count": null,
   "id": "9875a8e8-a0f9-4d45-9663-7c87ba01e4ae",
   "metadata": {},
   "outputs": [],
   "source": [
    "clustered_geo = gdf.groupby(\"EVENT_DEVICE_DATA_DEVICEIMEI\").apply(make_clusters, include_groups=False)"
   ]
  },
  {
   "cell_type": "code",
   "execution_count": null,
   "id": "b298ef9e-5fba-4d1d-aadd-4329e683bb7b",
   "metadata": {},
   "outputs": [],
   "source": [
    "clustered_geo.head()"
   ]
  },
  {
   "cell_type": "code",
   "execution_count": null,
   "id": "b8e62142-7f9f-4eec-8acc-e61d4b0d7e3a",
   "metadata": {},
   "outputs": [],
   "source": [
    "g = sns.FacetGrid(clustered_geo.reset_index(),col=\"device\", hue='cluster', col_wrap=4)\n",
    "g.map(sns.scatterplot,\"SITE_LONGITUDE\", \"SITE_LATITUDE\", alpha=0.05) \n",
    "g.set_titles(\"{col_name}\")\n",
    "g.add_legend()\n",
    "g.figure.suptitle(\"Variable clusters\")\n",
    "g.figure.subplots_adjust(top=0.9)"
   ]
  },
  {
   "cell_type": "markdown",
   "id": "ebaceb83-455b-4e68-85dc-8cb66791ac5d",
   "metadata": {},
   "source": [
    "May want to adjust the heuristic"
   ]
  },
  {
   "cell_type": "markdown",
   "id": "17e8ff60-14c4-4e15-a54d-01a60e9bb525",
   "metadata": {},
   "source": [
    "# Generate Geofences\n",
    "\n",
    "This should be pretty straightforward using Shapely"
   ]
  },
  {
   "cell_type": "code",
   "execution_count": null,
   "id": "4e1ccf05-8785-4d5d-b0b5-f3faae6e4ada",
   "metadata": {},
   "outputs": [],
   "source": [
    "clustered_geo.columns"
   ]
  },
  {
   "cell_type": "code",
   "execution_count": null,
   "id": "6b25e006-fe8c-4870-b099-8f16c90baa50",
   "metadata": {},
   "outputs": [],
   "source": [
    "type(MultiPoint(clustered_geo.sample(10)['geometry'].values).buffer(distance=1/111., quad_segs=5))"
   ]
  },
  {
   "cell_type": "code",
   "execution_count": null,
   "id": "5a756bb2-9140-46a0-80b0-e0916ee82148",
   "metadata": {},
   "outputs": [],
   "source": [
    "shapely.buffer(clustered_geo.sample(10)['geometry'].values, distance=1.)"
   ]
  },
  {
   "cell_type": "code",
   "execution_count": null,
   "id": "f845b193-3543-46d7-82de-200bbd1382e3",
   "metadata": {},
   "outputs": [],
   "source": []
  },
  {
   "cell_type": "code",
   "execution_count": null,
   "id": "27e20435-6700-4d64-8eb5-960724888a23",
   "metadata": {},
   "outputs": [],
   "source": [
    "# Create a convex hull from the points\n",
    "convex_hull = MultiPoint(clustered_geo.sample(45)['geometry'].values).convex_hull\n",
    "\n",
    "# Simplify the polygon to reduce the number of sides\n",
    "# The tolerance parameter controls the degree of simplification\n",
    "convex_hull.simplify(tolerance=0.1, preserve_topology=True)"
   ]
  },
  {
   "cell_type": "code",
   "execution_count": null,
   "id": "c95ef103-00ce-44f2-b051-3be0b36fb4a8",
   "metadata": {},
   "outputs": [],
   "source": [
    "convex_hull"
   ]
  },
  {
   "cell_type": "code",
   "execution_count": null,
   "id": "f46d4bc4-857a-44b8-baab-df43bbf27c5a",
   "metadata": {},
   "outputs": [],
   "source": [
    "convex_hull.simplify(tolerance=1, preserve_topology=True)"
   ]
  },
  {
   "cell_type": "markdown",
   "id": "d0e39513-f823-432b-af8a-4d5c560c5067",
   "metadata": {},
   "source": [
    "Need to convert MultiPoint to a polygon. We do this with `.convex_hull`. We could then call `.simplify` to further reduce the polygon, but from experimentation I don't think it's necessary."
   ]
  },
  {
   "cell_type": "code",
   "execution_count": null,
   "id": "3fae4649-6cc5-4779-8905-925c42ca55f2",
   "metadata": {},
   "outputs": [],
   "source": [
    "geofences = (\n",
    "    clustered_geo\n",
    "    .reset_index()  # can't mix level and by in a groupby\n",
    "    .groupby(by=['EVENT_DEVICE_DATA_DEVICEIMEI', \"cluster\"])\n",
    "    .apply(lambda grp: MultiPoint(grp['geometry'].values).convex_hull, include_groups=False)\n",
    ")"
   ]
  },
  {
   "cell_type": "code",
   "execution_count": null,
   "id": "b63fec62-0043-4ed9-a34c-c0220cc46a0c",
   "metadata": {},
   "outputs": [],
   "source": [
    "geofences"
   ]
  },
  {
   "cell_type": "code",
   "execution_count": null,
   "id": "5e4c937e-a5a6-47af-a22f-74cd9dc8076b",
   "metadata": {},
   "outputs": [],
   "source": [
    "geofences.loc[imei].reset_index().apply(lambda x: plt.plot(*x.iloc[1].exterior.xy, c=f\"C{x.iloc[0]}\", label=x.iloc[0]),axis=1)\n",
    "plt.legend(title=\"cluster\")"
   ]
  },
  {
   "cell_type": "markdown",
   "id": "cf471cf4-6555-4265-8e53-3b0b2b02c6d9",
   "metadata": {},
   "source": [
    "Let's look at a more complex one"
   ]
  },
  {
   "cell_type": "code",
   "execution_count": null,
   "id": "6010ae6c-25ba-4c61-8753-50874b99fbb8",
   "metadata": {},
   "outputs": [],
   "source": [
    "geofences.loc[geofences.index[-1][0]].reset_index().apply(lambda x: plt.plot(*x.iloc[1].exterior.xy, c=f\"C{x.iloc[0]}\", label=x.iloc[0]),axis=1)\n",
    "plt.legend(title=\"cluster\")"
   ]
  },
  {
   "cell_type": "code",
   "execution_count": null,
   "id": "884be984-d496-4c0a-8b86-34e0568a9108",
   "metadata": {},
   "outputs": [],
   "source": []
  }
 ],
 "metadata": {
  "kernelspec": {
   "display_name": "Python 3 (ipykernel)",
   "language": "python",
   "name": "python3"
  },
  "language_info": {
   "codemirror_mode": {
    "name": "ipython",
    "version": 3
   },
   "file_extension": ".py",
   "mimetype": "text/x-python",
   "name": "python",
   "nbconvert_exporter": "python",
   "pygments_lexer": "ipython3",
   "version": "3.12.3"
  }
 },
 "nbformat": 4,
 "nbformat_minor": 5
}

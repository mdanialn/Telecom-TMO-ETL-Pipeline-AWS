{
 "cells": [
  {
   "cell_type": "code",
   "execution_count": 1,
   "metadata": {},
   "outputs": [],
   "source": [
    "import pandas as pd\n",
    "from io import BytesIO\n",
    "import os\n",
    "from datetime import datetime"
   ]
  },
  {
   "cell_type": "code",
   "execution_count": 2,
   "metadata": {},
   "outputs": [],
   "source": [
    "# read dat file\n",
    "file_name = \"COF.TMO.PFD.TEST.ACCT.20240621.171501.DailyAccountMaster.dat\"\n",
    "df_header = pd.read_csv(file_name, delimiter=',', nrows=1, header=None, engine='python')"
   ]
  },
  {
   "cell_type": "code",
   "execution_count": 3,
   "metadata": {},
   "outputs": [
    {
     "data": {
      "text/plain": [
       "'COF.TMO.PFD.PFD.ACCT.20240621.171501.DailyAccountMaster'"
      ]
     },
     "execution_count": 3,
     "metadata": {},
     "output_type": "execute_result"
    }
   ],
   "source": [
    "batch_file_name = df_header[1][0]\n",
    "batch_file_name"
   ]
  },
  {
   "cell_type": "code",
   "execution_count": 5,
   "metadata": {},
   "outputs": [
    {
     "data": {
      "text/plain": [
       "'20240621'"
      ]
     },
     "execution_count": 5,
     "metadata": {},
     "output_type": "execute_result"
    }
   ],
   "source": [
    "# Get datetime from file name\n",
    "s_start = batch_file_name.find(\"ACCT.\") + 5\n",
    "s_end = s_start + 8\n",
    "this_date = batch_file_name[s_start:s_end]\n",
    "this_date"
   ]
  },
  {
   "cell_type": "code",
   "execution_count": 6,
   "metadata": {},
   "outputs": [
    {
     "data": {
      "text/plain": [
       "'171501'"
      ]
     },
     "execution_count": 6,
     "metadata": {},
     "output_type": "execute_result"
    }
   ],
   "source": [
    "s_start = batch_file_name.find(\"ACCT.\") + 14\n",
    "s_end = s_start + 6\n",
    "this_time = batch_file_name[s_start:s_end]\n",
    "this_time"
   ]
  },
  {
   "cell_type": "code",
   "execution_count": 9,
   "metadata": {},
   "outputs": [
    {
     "name": "stdout",
     "output_type": "stream",
     "text": [
      "<class 'str'>\n",
      "2024-06-21 17:15:01\n"
     ]
    }
   ],
   "source": [
    "datetime_str = this_date+this_time\n",
    "\n",
    "datetime_object = datetime.strptime(datetime_str, '%Y%m%d%H%M%S')\n",
    "\n",
    "print(type(str(datetime_object)))\n",
    "print(str(datetime_object))  # printed in default format"
   ]
  },
  {
   "cell_type": "code",
   "execution_count": null,
   "metadata": {},
   "outputs": [],
   "source": []
  }
 ],
 "metadata": {
  "kernelspec": {
   "display_name": "Python 3",
   "language": "python",
   "name": "python3"
  },
  "language_info": {
   "codemirror_mode": {
    "name": "ipython",
    "version": 3
   },
   "file_extension": ".py",
   "mimetype": "text/x-python",
   "name": "python",
   "nbconvert_exporter": "python",
   "pygments_lexer": "ipython3",
   "version": "3.10.0"
  }
 },
 "nbformat": 4,
 "nbformat_minor": 2
}
